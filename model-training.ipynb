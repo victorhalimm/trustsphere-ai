{
 "cells": [
  {
   "cell_type": "code",
   "execution_count": 1,
   "metadata": {},
   "outputs": [],
   "source": [
    "import nltk\n",
    "import pandas as pd"
   ]
  },
  {
   "cell_type": "code",
   "execution_count": 3,
   "metadata": {},
   "outputs": [
    {
     "data": {
      "text/html": [
       "<div>\n",
       "<style scoped>\n",
       "    .dataframe tbody tr th:only-of-type {\n",
       "        vertical-align: middle;\n",
       "    }\n",
       "\n",
       "    .dataframe tbody tr th {\n",
       "        vertical-align: top;\n",
       "    }\n",
       "\n",
       "    .dataframe thead th {\n",
       "        text-align: right;\n",
       "    }\n",
       "</style>\n",
       "<table border=\"1\" class=\"dataframe\">\n",
       "  <thead>\n",
       "    <tr style=\"text-align: right;\">\n",
       "      <th></th>\n",
       "      <th>selected_text</th>\n",
       "      <th>sentiment</th>\n",
       "    </tr>\n",
       "  </thead>\n",
       "  <tbody>\n",
       "    <tr>\n",
       "      <th>0</th>\n",
       "      <td>Sooo SAD</td>\n",
       "      <td>negative</td>\n",
       "    </tr>\n",
       "    <tr>\n",
       "      <th>1</th>\n",
       "      <td>bullying me</td>\n",
       "      <td>negative</td>\n",
       "    </tr>\n",
       "    <tr>\n",
       "      <th>2</th>\n",
       "      <td>leave me alone</td>\n",
       "      <td>negative</td>\n",
       "    </tr>\n",
       "    <tr>\n",
       "      <th>3</th>\n",
       "      <td>Sons of ****,</td>\n",
       "      <td>negative</td>\n",
       "    </tr>\n",
       "    <tr>\n",
       "      <th>4</th>\n",
       "      <td>fun</td>\n",
       "      <td>positive</td>\n",
       "    </tr>\n",
       "  </tbody>\n",
       "</table>\n",
       "</div>"
      ],
      "text/plain": [
       "    selected_text sentiment\n",
       "0        Sooo SAD  negative\n",
       "1     bullying me  negative\n",
       "2  leave me alone  negative\n",
       "3   Sons of ****,  negative\n",
       "4             fun  positive"
      ]
     },
     "execution_count": 3,
     "metadata": {},
     "output_type": "execute_result"
    }
   ],
   "source": [
    "from nltk import word_tokenize\n",
    "from nltk.corpus import stopwords\n",
    "from nltk.stem import PorterStemmer, WordNetLemmatizer\n",
    "\n",
    "porter = PorterStemmer()\n",
    "wordnet = WordNetLemmatizer()\n",
    "\n",
    "dataset_path = './dataset.csv'\n",
    "\n",
    "dataset = pd.read_csv(dataset_path, sep=\";\")\n",
    "\n",
    "dataset.head()\n"
   ]
  },
  {
   "cell_type": "code",
   "execution_count": 4,
   "metadata": {},
   "outputs": [
    {
     "name": "stdout",
     "output_type": "stream",
     "text": [
      "Accuracy: 0.7948717948717948\n",
      "Most Informative Features\n",
      "                    hope = False          positi : negati =      9.2 : 1.0\n",
      "                     fun = False          positi : negati =      6.4 : 1.0\n",
      "                    good = False          positi : negati =      6.3 : 1.0\n",
      "                  awesom = False          positi : negati =      5.8 : 1.0\n",
      "                    best = False          positi : negati =      4.4 : 1.0\n",
      "                    wish = False          positi : negati =      4.4 : 1.0\n",
      "                    nice = False          positi : negati =      3.7 : 1.0\n",
      "                    well = False          negati : positi =      3.6 : 1.0\n",
      "                     day = False          positi : negati =      3.3 : 1.0\n",
      "                     bad = False          negati : positi =      2.9 : 1.0\n"
     ]
    }
   ],
   "source": [
    "from random import shuffle\n",
    "from nltk import FreqDist\n",
    "import pickle\n",
    "\n",
    "stop_words = stopwords.words('english')\n",
    "\n",
    "def preprocess(text):\n",
    "    tokenized = word_tokenize(text)\n",
    "\n",
    "    filtered = [word.lower() for word in tokenized if word.isalpha()]\n",
    "\n",
    "    removed_stopwords = [word for word in filtered if word not in stop_words]\n",
    "\n",
    "    result = [porter.stem(word) for word in removed_stopwords]\n",
    "    result = [wordnet.lemmatize(word) for word in result]\n",
    "\n",
    "    return result\n",
    "\n",
    "all_words = []\n",
    "\n",
    "for sentence in dataset[\"selected_text\"]:\n",
    "    for word in preprocess(sentence):\n",
    "        all_words.append(word)\n",
    "\n",
    "fd = FreqDist(all_words)\n",
    "\n",
    "featured_word = {word for word in fd.most_common(100)}\n",
    "\n",
    "feature_sets = []\n",
    "\n",
    "for text, category in zip(dataset[\"selected_text\"], dataset[\"sentiment\"]):\n",
    "    feature = {}\n",
    "\n",
    "    processed_words = preprocess(text)\n",
    "\n",
    "    for word in processed_words:\n",
    "        feature[word] = (word in featured_word)\n",
    "    \n",
    "    feature_sets.append((feature, category))\n",
    "\n",
    "\n",
    "shuffle(feature_sets)\n",
    "\n",
    "split_index = int(len(feature_sets) * 0.8)\n",
    "train_set, test_set = feature_sets[:split_index], feature_sets[split_index:]\n",
    "\n",
    "classifier = nltk.NaiveBayesClassifier.train(train_set)\n",
    "\n",
    "accuracy = nltk.classify.util.accuracy(classifier, test_set)\n",
    "print(f'Accuracy: {accuracy}')\n",
    "\n",
    "classifier.show_most_informative_features(10)\n",
    "\n",
    "file = open('model.pickle', 'wb')\n",
    "pickle.dump(classifier, file)\n",
    "file.close()\n"
   ]
  }
 ],
 "metadata": {
  "kernelspec": {
   "display_name": "Python 3",
   "language": "python",
   "name": "python3"
  },
  "language_info": {
   "codemirror_mode": {
    "name": "ipython",
    "version": 3
   },
   "file_extension": ".py",
   "mimetype": "text/x-python",
   "name": "python",
   "nbconvert_exporter": "python",
   "pygments_lexer": "ipython3",
   "version": "3.11.1"
  }
 },
 "nbformat": 4,
 "nbformat_minor": 2
}
